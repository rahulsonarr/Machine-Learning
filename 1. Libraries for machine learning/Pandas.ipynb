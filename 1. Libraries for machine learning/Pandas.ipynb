{
  "nbformat": 4,
  "nbformat_minor": 0,
  "metadata": {
    "colab": {
      "provenance": [],
      "authorship_tag": "ABX9TyPUobCN4AKFum9CzCoFeu+e",
      "include_colab_link": true
    },
    "kernelspec": {
      "name": "python3",
      "display_name": "Python 3"
    },
    "language_info": {
      "name": "python"
    }
  },
  "cells": [
    {
      "cell_type": "markdown",
      "metadata": {
        "id": "view-in-github",
        "colab_type": "text"
      },
      "source": [
        "<a href=\"https://colab.research.google.com/github/rahulsonarr/Machine-Learning/blob/main/1.%20Libraries%20for%20machine%20learning/Pandas.ipynb\" target=\"_parent\"><img src=\"https://colab.research.google.com/assets/colab-badge.svg\" alt=\"Open In Colab\"/></a>"
      ]
    },
    {
      "cell_type": "markdown",
      "source": [
        "Pandas: Pandas is a powerful library for data manipulation and analysis. It provides data structures and functions for handling structured data, such as data frames, which are commonly used in machine learning workflows."
      ],
      "metadata": {
        "id": "ODo6p72GTgRa"
      }
    },
    {
      "cell_type": "code",
      "source": [
        "import pandas as pd"
      ],
      "metadata": {
        "id": "c_PVnPdMTslP"
      },
      "execution_count": 4,
      "outputs": []
    },
    {
      "cell_type": "code",
      "source": [
        "# Creating a DataFrame from a dictionary\n",
        "data = {\n",
        "    'Name': ['John', 'Emma', 'Peter', 'Olivia'],\n",
        "    'Age': [25, 28, 30, 27],\n",
        "    'City': ['New York', 'London', 'Paris', 'Sydney']\n",
        "}"
      ],
      "metadata": {
        "id": "ieYmLayHUVLX"
      },
      "execution_count": 5,
      "outputs": []
    },
    {
      "cell_type": "code",
      "source": [
        "df = pd.DataFrame(data)\n",
        "print(\"DataFrame:\")\n",
        "print(df)\n",
        "print()"
      ],
      "metadata": {
        "colab": {
          "base_uri": "https://localhost:8080/"
        },
        "id": "OWDbQjzRUiw6",
        "outputId": "56762470-bae9-496f-855d-ad6781d77a76"
      },
      "execution_count": 6,
      "outputs": [
        {
          "output_type": "stream",
          "name": "stdout",
          "text": [
            "DataFrame:\n",
            "     Name  Age      City\n",
            "0    John   25  New York\n",
            "1    Emma   28    London\n",
            "2   Peter   30     Paris\n",
            "3  Olivia   27    Sydney\n",
            "\n"
          ]
        }
      ]
    },
    {
      "cell_type": "code",
      "source": [
        "# Accessing columns\n",
        "print(\"Column 'Name':\")\n",
        "print(df['Name'])\n",
        "print()"
      ],
      "metadata": {
        "colab": {
          "base_uri": "https://localhost:8080/"
        },
        "id": "R6wlq7wVUcdA",
        "outputId": "a2d46c72-ab4c-4d5e-ef9f-442013813884"
      },
      "execution_count": 7,
      "outputs": [
        {
          "output_type": "stream",
          "name": "stdout",
          "text": [
            "Column 'Name':\n",
            "0      John\n",
            "1      Emma\n",
            "2     Peter\n",
            "3    Olivia\n",
            "Name: Name, dtype: object\n",
            "\n"
          ]
        }
      ]
    },
    {
      "cell_type": "code",
      "source": [
        "# Accessing rows\n",
        "print(\"Row at index 1:\")\n",
        "print(df.iloc[1])\n",
        "print()"
      ],
      "metadata": {
        "colab": {
          "base_uri": "https://localhost:8080/"
        },
        "id": "CMzPp8sZUzel",
        "outputId": "10fb6b57-309b-43d3-efa5-69f73347a62c"
      },
      "execution_count": 8,
      "outputs": [
        {
          "output_type": "stream",
          "name": "stdout",
          "text": [
            "Row at index 1:\n",
            "Name      Emma\n",
            "Age         28\n",
            "City    London\n",
            "Name: 1, dtype: object\n",
            "\n"
          ]
        }
      ]
    },
    {
      "cell_type": "code",
      "source": [
        "# Slicing rows\n",
        "print(\"Rows 1 and 2:\")\n",
        "print(df[1:3])\n",
        "print()"
      ],
      "metadata": {
        "colab": {
          "base_uri": "https://localhost:8080/"
        },
        "id": "EahKZkJxU1TI",
        "outputId": "74a46a12-2e70-42d1-a231-5ab9ed9f988a"
      },
      "execution_count": 9,
      "outputs": [
        {
          "output_type": "stream",
          "name": "stdout",
          "text": [
            "Rows 1 and 2:\n",
            "    Name  Age    City\n",
            "1   Emma   28  London\n",
            "2  Peter   30   Paris\n",
            "\n"
          ]
        }
      ]
    },
    {
      "cell_type": "code",
      "source": [
        "# Filtering rows based on a condition\n",
        "print(\"Filtered rows (Age > 26):\")\n",
        "filtered_df = df[df['Age'] > 26]\n",
        "print(filtered_df)\n",
        "print()"
      ],
      "metadata": {
        "colab": {
          "base_uri": "https://localhost:8080/"
        },
        "id": "04ahqHWeU3TR",
        "outputId": "f06c7e67-edfe-41b4-f6b8-08a76dc6b61a"
      },
      "execution_count": 10,
      "outputs": [
        {
          "output_type": "stream",
          "name": "stdout",
          "text": [
            "Filtered rows (Age > 26):\n",
            "     Name  Age    City\n",
            "1    Emma   28  London\n",
            "2   Peter   30   Paris\n",
            "3  Olivia   27  Sydney\n",
            "\n"
          ]
        }
      ]
    },
    {
      "cell_type": "code",
      "source": [
        "# Adding a new column\n",
        "df['Profession'] = ['Engineer', 'Teacher', 'Doctor', 'Designer']\n",
        "print(\"DataFrame with added column:\")\n",
        "print(df)\n",
        "print()"
      ],
      "metadata": {
        "colab": {
          "base_uri": "https://localhost:8080/"
        },
        "id": "r4L7e9e3U5nD",
        "outputId": "6101bee5-0323-490e-bb8a-ed8179661594"
      },
      "execution_count": 11,
      "outputs": [
        {
          "output_type": "stream",
          "name": "stdout",
          "text": [
            "DataFrame with added column:\n",
            "     Name  Age      City Profession\n",
            "0    John   25  New York   Engineer\n",
            "1    Emma   28    London    Teacher\n",
            "2   Peter   30     Paris     Doctor\n",
            "3  Olivia   27    Sydney   Designer\n",
            "\n"
          ]
        }
      ]
    },
    {
      "cell_type": "code",
      "source": [
        "# Basic statistics\n",
        "print(\"Summary statistics (Age column):\")\n",
        "print(df['Age'].describe())\n",
        "print()"
      ],
      "metadata": {
        "colab": {
          "base_uri": "https://localhost:8080/"
        },
        "id": "zpg5sZKFU7P4",
        "outputId": "503e7491-a3a7-4876-997c-ccdff00babde"
      },
      "execution_count": 12,
      "outputs": [
        {
          "output_type": "stream",
          "name": "stdout",
          "text": [
            "Summary statistics (Age column):\n",
            "count     4.000000\n",
            "mean     27.500000\n",
            "std       2.081666\n",
            "min      25.000000\n",
            "25%      26.500000\n",
            "50%      27.500000\n",
            "75%      28.500000\n",
            "max      30.000000\n",
            "Name: Age, dtype: float64\n",
            "\n"
          ]
        }
      ]
    },
    {
      "cell_type": "code",
      "source": [
        "# Sorting the DataFrame\n",
        "sorted_df = df.sort_values('Age', ascending=False)\n",
        "print(\"Sorted DataFrame (by Age):\")\n",
        "print(sorted_df)\n",
        "print()"
      ],
      "metadata": {
        "colab": {
          "base_uri": "https://localhost:8080/"
        },
        "id": "AOsry801U866",
        "outputId": "55a664ed-36a8-4a01-ce80-99e1a2cb7726"
      },
      "execution_count": 13,
      "outputs": [
        {
          "output_type": "stream",
          "name": "stdout",
          "text": [
            "Sorted DataFrame (by Age):\n",
            "     Name  Age      City Profession\n",
            "2   Peter   30     Paris     Doctor\n",
            "1    Emma   28    London    Teacher\n",
            "3  Olivia   27    Sydney   Designer\n",
            "0    John   25  New York   Engineer\n",
            "\n"
          ]
        }
      ]
    },
    {
      "cell_type": "code",
      "source": [
        "# Grouping and aggregating data\n",
        "grouped_df = df.groupby('City').mean()\n",
        "print(\"Grouped DataFrame (by City, with mean Age):\")\n",
        "print(grouped_df)\n",
        "print()"
      ],
      "metadata": {
        "colab": {
          "base_uri": "https://localhost:8080/"
        },
        "id": "f7cA_O0pU-lL",
        "outputId": "07eced28-ff64-41b7-84b8-15f46be919f6"
      },
      "execution_count": 14,
      "outputs": [
        {
          "output_type": "stream",
          "name": "stdout",
          "text": [
            "Grouped DataFrame (by City, with mean Age):\n",
            "           Age\n",
            "City          \n",
            "London    28.0\n",
            "New York  25.0\n",
            "Paris     30.0\n",
            "Sydney    27.0\n",
            "\n"
          ]
        },
        {
          "output_type": "stream",
          "name": "stderr",
          "text": [
            "<ipython-input-14-29788654a196>:2: FutureWarning: The default value of numeric_only in DataFrameGroupBy.mean is deprecated. In a future version, numeric_only will default to False. Either specify numeric_only or select only columns which should be valid for the function.\n",
            "  grouped_df = df.groupby('City').mean()\n"
          ]
        }
      ]
    }
  ]
}