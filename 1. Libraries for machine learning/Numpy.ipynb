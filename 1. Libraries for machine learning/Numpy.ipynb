{
  "nbformat": 4,
  "nbformat_minor": 0,
  "metadata": {
    "colab": {
      "provenance": [],
      "authorship_tag": "ABX9TyNWe9hZarGrQ9BYgbd4MkaT",
      "include_colab_link": true
    },
    "kernelspec": {
      "name": "python3",
      "display_name": "Python 3"
    },
    "language_info": {
      "name": "python"
    }
  },
  "cells": [
    {
      "cell_type": "markdown",
      "metadata": {
        "id": "view-in-github",
        "colab_type": "text"
      },
      "source": [
        "<a href=\"https://colab.research.google.com/github/rahulsonarr/Machine-Learning/blob/main/1.%20Libraries%20for%20machine%20learning/Numpy.ipynb\" target=\"_parent\"><img src=\"https://colab.research.google.com/assets/colab-badge.svg\" alt=\"Open In Colab\"/></a>"
      ]
    },
    {
      "cell_type": "markdown",
      "source": [
        "NumPy: NumPy is a fundamental library for scientific computing in Python. It provides support for large, multi-dimensional arrays and matrices, along with a collection of mathematical functions to operate on these arrays."
      ],
      "metadata": {
        "id": "zE-bkhuMJYa_"
      }
    },
    {
      "cell_type": "code",
      "execution_count": 15,
      "metadata": {
        "colab": {
          "base_uri": "https://localhost:8080/"
        },
        "id": "1PRTYY_7JPeH",
        "outputId": "2ef1df0c-1e5d-415c-cb14-ea2c5c69891e"
      },
      "outputs": [
        {
          "output_type": "stream",
          "name": "stdout",
          "text": [
            "1D Array:\n",
            "[1 2 3 4 5]\n",
            "Shape: (5,)\n",
            "Size: 5\n",
            "\n"
          ]
        }
      ],
      "source": [
        "import numpy as np\n",
        "\n",
        "# Creating a 1-dimensional array\n",
        "arr1d = np.array([1, 2, 3, 4, 5])\n",
        "print(\"1D Array:\")\n",
        "print(arr1d)\n",
        "print(\"Shape:\", arr1d.shape)\n",
        "print(\"Size:\", arr1d.size)\n",
        "print()"
      ]
    },
    {
      "cell_type": "code",
      "source": [
        "# Creating a 2-dimensional array\n",
        "arr2d = np.array([[1, 2, 3], [4, 5, 6]])\n",
        "print(\"2D Array:\")\n",
        "print(arr2d)\n",
        "print(\"Shape:\", arr2d.shape)\n",
        "print(\"Size:\", arr2d.size)\n",
        "print()"
      ],
      "metadata": {
        "colab": {
          "base_uri": "https://localhost:8080/"
        },
        "id": "RWsIE32IKG-m",
        "outputId": "3c04552d-9692-4898-c897-dfa997533a61"
      },
      "execution_count": 16,
      "outputs": [
        {
          "output_type": "stream",
          "name": "stdout",
          "text": [
            "2D Array:\n",
            "[[1 2 3]\n",
            " [4 5 6]]\n",
            "Shape: (2, 3)\n",
            "Size: 6\n",
            "\n"
          ]
        }
      ]
    },
    {
      "cell_type": "code",
      "source": [
        "# Accessing elements in a NumPy array\n",
        "print(\"First element of arr1d:\", arr1d[0])\n",
        "print(\"Element at row 1, column 2 of arr2d:\", arr2d[1, 2])\n",
        "print()"
      ],
      "metadata": {
        "colab": {
          "base_uri": "https://localhost:8080/"
        },
        "id": "hfIPh_qGKJXk",
        "outputId": "8acb3e19-2f07-41e4-f24a-0815d2dfffb0"
      },
      "execution_count": 17,
      "outputs": [
        {
          "output_type": "stream",
          "name": "stdout",
          "text": [
            "First element of arr1d: 1\n",
            "Element at row 1, column 2 of arr2d: 6\n",
            "\n"
          ]
        }
      ]
    },
    {
      "cell_type": "code",
      "source": [
        "# Slicing arrays\n",
        "print(\"Slice of arr1d:\", arr1d[1:4])\n",
        "print(\"Slice of arr2d:\")\n",
        "print(arr2d[:, 1:])  # Selecting all rows and columns starting from column index 1\n",
        "print()"
      ],
      "metadata": {
        "colab": {
          "base_uri": "https://localhost:8080/"
        },
        "id": "UrfLtyfrKLZQ",
        "outputId": "ad4325d9-a67c-49f7-c52b-a7bdd0455b88"
      },
      "execution_count": 18,
      "outputs": [
        {
          "output_type": "stream",
          "name": "stdout",
          "text": [
            "Slice of arr1d: [2 3 4]\n",
            "Slice of arr2d:\n",
            "[[2 3]\n",
            " [5 6]]\n",
            "\n"
          ]
        }
      ]
    },
    {
      "cell_type": "code",
      "source": [
        "# Reshaping arrays\n",
        "reshaped_arr = arr1d.reshape(5, 1)\n",
        "print(\"Reshaped array:\")\n",
        "print(reshaped_arr)\n",
        "print(\"Shape:\", reshaped_arr.shape)\n",
        "print()"
      ],
      "metadata": {
        "colab": {
          "base_uri": "https://localhost:8080/"
        },
        "id": "G9tU7BEaKN9L",
        "outputId": "f91fb5ff-1176-46c8-e722-ad711c1f2291"
      },
      "execution_count": 19,
      "outputs": [
        {
          "output_type": "stream",
          "name": "stdout",
          "text": [
            "Reshaped array:\n",
            "[[1]\n",
            " [2]\n",
            " [3]\n",
            " [4]\n",
            " [5]]\n",
            "Shape: (5, 1)\n",
            "\n"
          ]
        }
      ]
    },
    {
      "cell_type": "code",
      "source": [
        "# Array arithmetic operations\n",
        "a = np.array([1, 2, 3])\n",
        "b = np.array([4, 5, 6])\n",
        "print(\"Addition:\", a + b)\n",
        "print(\"Subtraction:\", a - b)\n",
        "print(\"Multiplication:\", a * b)\n",
        "print(\"Division:\", a / b)\n",
        "print(\"Dot product:\", np.dot(a, b))\n",
        "print()"
      ],
      "metadata": {
        "colab": {
          "base_uri": "https://localhost:8080/"
        },
        "id": "8tMU9UTyKPeh",
        "outputId": "16b1b8a1-101d-4045-ec61-6f5c79155512"
      },
      "execution_count": 20,
      "outputs": [
        {
          "output_type": "stream",
          "name": "stdout",
          "text": [
            "Addition: [5 7 9]\n",
            "Subtraction: [-3 -3 -3]\n",
            "Multiplication: [ 4 10 18]\n",
            "Division: [0.25 0.4  0.5 ]\n",
            "Dot product: 32\n",
            "\n"
          ]
        }
      ]
    },
    {
      "cell_type": "code",
      "source": [
        "# Basic statistical operations\n",
        "data = np.array([2, 4, 6, 8, 10])\n",
        "print(\"Mean:\", np.mean(data))\n",
        "print(\"Median:\", np.median(data))\n",
        "print(\"Standard Deviation:\", np.std(data))\n",
        "print(\"Minimum value:\", np.min(data))\n",
        "print(\"Maximum value:\", np.max(data))"
      ],
      "metadata": {
        "colab": {
          "base_uri": "https://localhost:8080/"
        },
        "id": "ynY1zhfqKQ1w",
        "outputId": "18c834eb-1808-446b-a29b-8eabf8a22442"
      },
      "execution_count": 21,
      "outputs": [
        {
          "output_type": "stream",
          "name": "stdout",
          "text": [
            "Mean: 6.0\n",
            "Median: 6.0\n",
            "Standard Deviation: 2.8284271247461903\n",
            "Minimum value: 2\n",
            "Maximum value: 10\n"
          ]
        }
      ]
    }
  ]
}