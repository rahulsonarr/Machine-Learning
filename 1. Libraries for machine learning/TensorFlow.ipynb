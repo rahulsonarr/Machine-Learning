{
  "nbformat": 4,
  "nbformat_minor": 0,
  "metadata": {
    "colab": {
      "provenance": [],
      "authorship_tag": "ABX9TyN9QzneT/VhO27EypZtYCGi",
      "include_colab_link": true
    },
    "kernelspec": {
      "name": "python3",
      "display_name": "Python 3"
    },
    "language_info": {
      "name": "python"
    }
  },
  "cells": [
    {
      "cell_type": "markdown",
      "metadata": {
        "id": "view-in-github",
        "colab_type": "text"
      },
      "source": [
        "<a href=\"https://colab.research.google.com/github/rahulsonarr/Machine-Learning/blob/main/1.%20Libraries%20for%20machine%20learning/TensorFlow.ipynb\" target=\"_parent\"><img src=\"https://colab.research.google.com/assets/colab-badge.svg\" alt=\"Open In Colab\"/></a>"
      ]
    },
    {
      "cell_type": "markdown",
      "source": [
        "TensorFlow: TensorFlow is an open-source library developed by Google for numerical computation and deep learning. It offers a flexible architecture for building and training various types of neural networks."
      ],
      "metadata": {
        "id": "mWuYheBI6djB"
      }
    },
    {
      "cell_type": "markdown",
      "source": [
        "Here's a simple TensorFlow code example that demonstrates how to create a basic neural network for binary classification using the Sequential API"
      ],
      "metadata": {
        "id": "wxkOCBDG6M7t"
      }
    },
    {
      "cell_type": "code",
      "source": [
        "import tensorflow as tf\n",
        "from tensorflow.keras.models import Sequential\n",
        "from tensorflow.keras.layers import Dense, Activation\n",
        "from tensorflow.keras.optimizers import Adam\n",
        "from tensorflow.keras.losses import BinaryCrossentropy\n",
        "from tensorflow.keras.metrics import Accuracy"
      ],
      "metadata": {
        "id": "uzzVOdyD6sWQ"
      },
      "execution_count": 8,
      "outputs": []
    },
    {
      "cell_type": "code",
      "source": [
        "# Generate some toy data for binary classification\n",
        "import numpy as np\n",
        "\n",
        "np.random.seed(42)\n",
        "X = np.random.rand(100, 2)  # 100 samples with 2 features each\n",
        "y = (X[:, 0] + X[:, 1] > 1).astype(int)  # Binary labels based on a simple condition"
      ],
      "metadata": {
        "id": "Nsuoxooc6z38"
      },
      "execution_count": 9,
      "outputs": []
    },
    {
      "cell_type": "code",
      "source": [
        "# Split the data into training and testing sets\n",
        "from sklearn.model_selection import train_test_split\n",
        "\n",
        "X_train, X_test, y_train, y_test = train_test_split(X, y, test_size=0.2, random_state=42)"
      ],
      "metadata": {
        "id": "B9lJ-r3F63mi"
      },
      "execution_count": 10,
      "outputs": []
    },
    {
      "cell_type": "code",
      "source": [
        "# Create the neural network model\n",
        "model = Sequential()\n",
        "model.add(Dense(64, input_dim=2, activation='relu'))  # 64 neurons in the first layer, input_dim=2 for 2 features\n",
        "model.add(Dense(32, activation='relu'))  # 32 neurons in the second hidden layer\n",
        "model.add(Dense(1, activation='sigmoid'))  # Output layer with 1 neuron and sigmoid activation for binary classification"
      ],
      "metadata": {
        "id": "MtXibhuZ65iK"
      },
      "execution_count": 11,
      "outputs": []
    },
    {
      "cell_type": "code",
      "source": [
        "# Compile the model\n",
        "model.compile(optimizer=Adam(learning_rate=0.01), loss=BinaryCrossentropy(), metrics=[Accuracy()])"
      ],
      "metadata": {
        "id": "5imkz9EG67P9"
      },
      "execution_count": 12,
      "outputs": []
    },
    {
      "cell_type": "code",
      "source": [
        "# Train the model\n",
        "model.fit(X_train, y_train, epochs=50, batch_size=16, verbose=1)"
      ],
      "metadata": {
        "colab": {
          "base_uri": "https://localhost:8080/"
        },
        "id": "03Wg3X7M68vC",
        "outputId": "03185c6b-8b42-4dbf-b6e5-a7a09c19e2b1"
      },
      "execution_count": 13,
      "outputs": [
        {
          "output_type": "stream",
          "name": "stdout",
          "text": [
            "Epoch 1/50\n",
            "5/5 [==============================] - 1s 3ms/step - loss: 0.6359 - accuracy: 0.0000e+00\n",
            "Epoch 2/50\n",
            "5/5 [==============================] - 0s 3ms/step - loss: 0.5299 - accuracy: 0.0000e+00\n",
            "Epoch 3/50\n",
            "5/5 [==============================] - 0s 3ms/step - loss: 0.4216 - accuracy: 0.0000e+00\n",
            "Epoch 4/50\n",
            "5/5 [==============================] - 0s 4ms/step - loss: 0.2972 - accuracy: 0.0000e+00\n",
            "Epoch 5/50\n",
            "5/5 [==============================] - 0s 3ms/step - loss: 0.2093 - accuracy: 0.0000e+00\n",
            "Epoch 6/50\n",
            "5/5 [==============================] - 0s 3ms/step - loss: 0.1562 - accuracy: 0.0000e+00\n",
            "Epoch 7/50\n",
            "5/5 [==============================] - 0s 3ms/step - loss: 0.1298 - accuracy: 0.0000e+00\n",
            "Epoch 8/50\n",
            "5/5 [==============================] - 0s 3ms/step - loss: 0.0980 - accuracy: 0.0000e+00\n",
            "Epoch 9/50\n",
            "5/5 [==============================] - 0s 6ms/step - loss: 0.1092 - accuracy: 0.0000e+00\n",
            "Epoch 10/50\n",
            "5/5 [==============================] - 0s 3ms/step - loss: 0.0980 - accuracy: 0.0000e+00\n",
            "Epoch 11/50\n",
            "5/5 [==============================] - 0s 3ms/step - loss: 0.0963 - accuracy: 0.0000e+00\n",
            "Epoch 12/50\n",
            "5/5 [==============================] - 0s 3ms/step - loss: 0.0919 - accuracy: 0.0000e+00\n",
            "Epoch 13/50\n",
            "5/5 [==============================] - 0s 3ms/step - loss: 0.0754 - accuracy: 0.0000e+00\n",
            "Epoch 14/50\n",
            "5/5 [==============================] - 0s 3ms/step - loss: 0.0775 - accuracy: 0.0000e+00\n",
            "Epoch 15/50\n",
            "5/5 [==============================] - 0s 3ms/step - loss: 0.0656 - accuracy: 0.0000e+00\n",
            "Epoch 16/50\n",
            "5/5 [==============================] - 0s 3ms/step - loss: 0.0734 - accuracy: 0.0000e+00\n",
            "Epoch 17/50\n",
            "5/5 [==============================] - 0s 3ms/step - loss: 0.0866 - accuracy: 0.0000e+00\n",
            "Epoch 18/50\n",
            "5/5 [==============================] - 0s 5ms/step - loss: 0.1375 - accuracy: 0.0000e+00\n",
            "Epoch 19/50\n",
            "5/5 [==============================] - 0s 4ms/step - loss: 0.1443 - accuracy: 0.0000e+00\n",
            "Epoch 20/50\n",
            "5/5 [==============================] - 0s 4ms/step - loss: 0.0834 - accuracy: 0.0000e+00\n",
            "Epoch 21/50\n",
            "5/5 [==============================] - 0s 4ms/step - loss: 0.0796 - accuracy: 0.0000e+00\n",
            "Epoch 22/50\n",
            "5/5 [==============================] - 0s 4ms/step - loss: 0.1260 - accuracy: 0.0000e+00\n",
            "Epoch 23/50\n",
            "5/5 [==============================] - 0s 4ms/step - loss: 0.0768 - accuracy: 0.0000e+00\n",
            "Epoch 24/50\n",
            "5/5 [==============================] - 0s 3ms/step - loss: 0.0840 - accuracy: 0.0000e+00\n",
            "Epoch 25/50\n",
            "5/5 [==============================] - 0s 3ms/step - loss: 0.0772 - accuracy: 0.0000e+00\n",
            "Epoch 26/50\n",
            "5/5 [==============================] - 0s 3ms/step - loss: 0.0636 - accuracy: 0.0000e+00\n",
            "Epoch 27/50\n",
            "5/5 [==============================] - 0s 3ms/step - loss: 0.0616 - accuracy: 0.0000e+00\n",
            "Epoch 28/50\n",
            "5/5 [==============================] - 0s 3ms/step - loss: 0.0694 - accuracy: 0.0000e+00\n",
            "Epoch 29/50\n",
            "5/5 [==============================] - 0s 3ms/step - loss: 0.0541 - accuracy: 0.0000e+00\n",
            "Epoch 30/50\n",
            "5/5 [==============================] - 0s 3ms/step - loss: 0.0528 - accuracy: 0.0000e+00\n",
            "Epoch 31/50\n",
            "5/5 [==============================] - 0s 3ms/step - loss: 0.0542 - accuracy: 0.0000e+00\n",
            "Epoch 32/50\n",
            "5/5 [==============================] - 0s 3ms/step - loss: 0.0536 - accuracy: 0.0000e+00\n",
            "Epoch 33/50\n",
            "5/5 [==============================] - 0s 3ms/step - loss: 0.0456 - accuracy: 0.0000e+00\n",
            "Epoch 34/50\n",
            "5/5 [==============================] - 0s 3ms/step - loss: 0.0451 - accuracy: 0.0000e+00\n",
            "Epoch 35/50\n",
            "5/5 [==============================] - 0s 3ms/step - loss: 0.0465 - accuracy: 0.0000e+00\n",
            "Epoch 36/50\n",
            "5/5 [==============================] - 0s 3ms/step - loss: 0.0467 - accuracy: 0.0000e+00\n",
            "Epoch 37/50\n",
            "5/5 [==============================] - 0s 3ms/step - loss: 0.0462 - accuracy: 0.0000e+00\n",
            "Epoch 38/50\n",
            "5/5 [==============================] - 0s 3ms/step - loss: 0.0507 - accuracy: 0.0250\n",
            "Epoch 39/50\n",
            "5/5 [==============================] - 0s 3ms/step - loss: 0.0467 - accuracy: 0.0125\n",
            "Epoch 40/50\n",
            "5/5 [==============================] - 0s 3ms/step - loss: 0.0407 - accuracy: 0.0250    \n",
            "Epoch 41/50\n",
            "5/5 [==============================] - 0s 3ms/step - loss: 0.0422 - accuracy: 0.0250\n",
            "Epoch 42/50\n",
            "5/5 [==============================] - 0s 3ms/step - loss: 0.0433 - accuracy: 0.0250\n",
            "Epoch 43/50\n",
            "5/5 [==============================] - 0s 3ms/step - loss: 0.0443 - accuracy: 0.0375\n",
            "Epoch 44/50\n",
            "5/5 [==============================] - 0s 3ms/step - loss: 0.0395 - accuracy: 0.0500\n",
            "Epoch 45/50\n",
            "5/5 [==============================] - 0s 3ms/step - loss: 0.0404 - accuracy: 0.0500\n",
            "Epoch 46/50\n",
            "5/5 [==============================] - 0s 4ms/step - loss: 0.0557 - accuracy: 0.0750\n",
            "Epoch 47/50\n",
            "5/5 [==============================] - 0s 3ms/step - loss: 0.0341 - accuracy: 0.0625\n",
            "Epoch 48/50\n",
            "5/5 [==============================] - 0s 3ms/step - loss: 0.0576 - accuracy: 0.1000\n",
            "Epoch 49/50\n",
            "5/5 [==============================] - 0s 3ms/step - loss: 0.0460 - accuracy: 0.0750\n",
            "Epoch 50/50\n",
            "5/5 [==============================] - 0s 3ms/step - loss: 0.0443 - accuracy: 0.0875\n"
          ]
        },
        {
          "output_type": "execute_result",
          "data": {
            "text/plain": [
              "<keras.callbacks.History at 0x78d6cf719600>"
            ]
          },
          "metadata": {},
          "execution_count": 13
        }
      ]
    },
    {
      "cell_type": "code",
      "source": [
        "# Evaluate the model on the test set\n",
        "loss, accuracy = model.evaluate(X_test, y_test, verbose=0)\n",
        "print(f\"Test loss: {loss:.4f}, Test accuracy: {accuracy:.4f}\")"
      ],
      "metadata": {
        "colab": {
          "base_uri": "https://localhost:8080/"
        },
        "id": "PTp0O_Xx6-od",
        "outputId": "902ef2d0-52c5-45df-9f1b-b5fd6885789a"
      },
      "execution_count": 14,
      "outputs": [
        {
          "output_type": "stream",
          "name": "stdout",
          "text": [
            "Test loss: 0.0831, Test accuracy: 0.0000\n"
          ]
        }
      ]
    }
  ]
}