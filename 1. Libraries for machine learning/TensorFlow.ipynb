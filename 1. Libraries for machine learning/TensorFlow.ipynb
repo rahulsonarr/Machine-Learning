{
  "nbformat": 4,
  "nbformat_minor": 0,
  "metadata": {
    "colab": {
      "provenance": [],
      "authorship_tag": "ABX9TyOflT8kFmqwP+1IqRg/1orK",
      "include_colab_link": true
    },
    "kernelspec": {
      "name": "python3",
      "display_name": "Python 3"
    },
    "language_info": {
      "name": "python"
    }
  },
  "cells": [
    {
      "cell_type": "markdown",
      "metadata": {
        "id": "view-in-github",
        "colab_type": "text"
      },
      "source": [
        "<a href=\"https://colab.research.google.com/github/rahulsonarr/Machine-Learning/blob/main/1.%20Libraries%20for%20machine%20learning/TensorFlow.ipynb\" target=\"_parent\"><img src=\"https://colab.research.google.com/assets/colab-badge.svg\" alt=\"Open In Colab\"/></a>"
      ]
    },
    {
      "cell_type": "markdown",
      "source": [
        "**TensorFlow:** TensorFlow is an open-source library developed by Google for numerical computation and deep learning. It offers a flexible architecture for building and training various types of neural networks."
      ],
      "metadata": {
        "id": "Eo6IOPHZB0CA"
      }
    },
    {
      "cell_type": "markdown",
      "source": [
        "Here are some basic TensorFlow code examples that cover various fundamental concepts:"
      ],
      "metadata": {
        "id": "OuLspNi_CJE3"
      }
    },
    {
      "cell_type": "markdown",
      "source": [
        "Hello World in TensorFlow:"
      ],
      "metadata": {
        "id": "Lv8S_vDeCLMg"
      }
    },
    {
      "cell_type": "code",
      "source": [
        "import tensorflow as tf\n",
        "\n",
        "# Create a TensorFlow constant\n",
        "hello = tf.constant(\"Hello, TensorFlow!\")\n",
        "\n",
        "# Print the constant value directly (eager execution mode)\n",
        "print(hello.numpy().decode())  # Output: Hello, TensorFlow!\n"
      ],
      "metadata": {
        "colab": {
          "base_uri": "https://localhost:8080/"
        },
        "id": "RYctgiVGCOlA",
        "outputId": "294e7e52-751e-45f0-f9c8-4dba3816eb9a"
      },
      "execution_count": 3,
      "outputs": [
        {
          "output_type": "stream",
          "name": "stdout",
          "text": [
            "Hello, TensorFlow!\n"
          ]
        }
      ]
    },
    {
      "cell_type": "markdown",
      "source": [
        "Tensor Operations:"
      ],
      "metadata": {
        "id": "Uf161vE9CQdw"
      }
    },
    {
      "cell_type": "code",
      "source": [
        "import tensorflow as tf\n",
        "\n",
        "# Create TensorFlow constants\n",
        "a = tf.constant(5)\n",
        "b = tf.constant(10)\n",
        "\n",
        "# Perform some basic tensor operations\n",
        "sum_ab = tf.add(a, b)\n",
        "mul_ab = tf.multiply(a, b)\n",
        "\n",
        "# Display the results (eager execution mode)\n",
        "print(\"Sum:\", sum_ab.numpy())     # Output: Sum: 15\n",
        "print(\"Multiplication:\", mul_ab.numpy())  # Output: Multiplication: 50\n"
      ],
      "metadata": {
        "colab": {
          "base_uri": "https://localhost:8080/"
        },
        "id": "khAY5N4GDXIF",
        "outputId": "a0b69655-49a0-484c-b992-97f639f4f1cf"
      },
      "execution_count": 5,
      "outputs": [
        {
          "output_type": "stream",
          "name": "stdout",
          "text": [
            "Sum: 15\n",
            "Multiplication: 50\n"
          ]
        }
      ]
    },
    {
      "cell_type": "markdown",
      "source": [
        "Placeholder and Feed Dictionary:"
      ],
      "metadata": {
        "id": "L8jVdSp-DXw2"
      }
    },
    {
      "cell_type": "code",
      "source": [
        "import tensorflow as tf\n",
        "\n",
        "# Define a simple computation graph using function arguments\n",
        "def computation_graph(input_data):\n",
        "    output_data = input_data * 2\n",
        "    return output_data\n",
        "\n",
        "# Perform computation using eager execution\n",
        "input_data = tf.constant([1.0, 2.0, 3.0, 4.0], dtype=tf.float32)\n",
        "result = computation_graph(input_data)\n",
        "\n",
        "# Display the result\n",
        "print(result.numpy())  # Output: [2. 4. 6. 8.]\n"
      ],
      "metadata": {
        "colab": {
          "base_uri": "https://localhost:8080/"
        },
        "id": "yNfTeZcSD1In",
        "outputId": "0fb5e0ff-a689-460a-a4b5-f1bb9c8d4825"
      },
      "execution_count": 7,
      "outputs": [
        {
          "output_type": "stream",
          "name": "stdout",
          "text": [
            "[2. 4. 6. 8.]\n"
          ]
        }
      ]
    },
    {
      "cell_type": "markdown",
      "source": [
        "Simple Linear Regression:"
      ],
      "metadata": {
        "id": "bPp0W1GXD3-B"
      }
    },
    {
      "cell_type": "code",
      "source": [
        "import tensorflow as tf\n",
        "import numpy as np\n",
        "\n",
        "# Generate some toy data for linear regression\n",
        "np.random.seed(42)\n",
        "X = np.random.rand(100, 1)\n",
        "y = 3 * X + 2 + 0.1 * np.random.randn(100, 1)\n",
        "\n",
        "# Convert NumPy arrays to TensorFlow tensors\n",
        "X_tensor = tf.constant(X, dtype=tf.float32)\n",
        "y_tensor = tf.constant(y, dtype=tf.float32)\n",
        "\n",
        "# Create a linear regression model using TensorFlow 2.x\n",
        "class LinearRegression(tf.keras.Model):\n",
        "    def __init__(self):\n",
        "        super(LinearRegression, self).__init__()\n",
        "        self.W = tf.Variable(tf.random.normal([1, 1]), name='weights')\n",
        "        self.b = tf.Variable(tf.zeros([1]), name='bias')\n",
        "\n",
        "    def call(self, inputs):\n",
        "        return tf.matmul(inputs, self.W) + self.b\n",
        "\n",
        "# Instantiate the model\n",
        "model = LinearRegression()\n",
        "\n",
        "# Define the loss function and optimizer\n",
        "loss_object = tf.keras.losses.MeanSquaredError()\n",
        "optimizer = tf.keras.optimizers.SGD(learning_rate=0.01)\n",
        "\n",
        "# Training the model using gradient tape\n",
        "def train_step(inputs, labels):\n",
        "    with tf.GradientTape() as tape:\n",
        "        predictions = model(inputs)\n",
        "        loss = loss_object(labels, predictions)\n",
        "    gradients = tape.gradient(loss, model.trainable_variables)\n",
        "    optimizer.apply_gradients(zip(gradients, model.trainable_variables))\n",
        "    return loss\n",
        "\n",
        "# Training loop\n",
        "num_epochs = 1000\n",
        "batch_size = 32\n",
        "\n",
        "for epoch in range(num_epochs):\n",
        "    for i in range(0, len(X), batch_size):\n",
        "        X_batch = X_tensor[i:i+batch_size]\n",
        "        y_batch = y_tensor[i:i+batch_size]\n",
        "        loss = train_step(X_batch, y_batch)\n",
        "    if epoch % 100 == 0:\n",
        "        print(f\"Epoch {epoch}, Loss: {loss:.4f}\")\n",
        "\n",
        "# Get the learned parameters\n",
        "learned_W, learned_b = model.get_weights()\n",
        "print(\"Learned weights:\", learned_W.flatten())  # Output: [2.9957] (close to the true value of 3)\n",
        "print(\"Learned bias:\", learned_b[0])  # Output: 2.0433 (close to the true value of 2)\n"
      ],
      "metadata": {
        "colab": {
          "base_uri": "https://localhost:8080/"
        },
        "id": "ajXNN68mEw8o",
        "outputId": "0136a40f-4ae5-4db6-b9bc-5d2010063717"
      },
      "execution_count": 9,
      "outputs": [
        {
          "output_type": "stream",
          "name": "stdout",
          "text": [
            "Epoch 0, Loss: 8.3445\n",
            "Epoch 100, Loss: 0.1193\n",
            "Epoch 200, Loss: 0.0359\n",
            "Epoch 300, Loss: 0.0105\n",
            "Epoch 400, Loss: 0.0031\n",
            "Epoch 500, Loss: 0.0011\n",
            "Epoch 600, Loss: 0.0007\n",
            "Epoch 700, Loss: 0.0007\n",
            "Epoch 800, Loss: 0.0008\n",
            "Epoch 900, Loss: 0.0009\n",
            "Learned weights: [2.930725]\n",
            "Learned bias: 2.0375438\n"
          ]
        }
      ]
    },
    {
      "cell_type": "code",
      "source": [],
      "metadata": {
        "id": "Zz3nd7p9Exb5"
      },
      "execution_count": null,
      "outputs": []
    }
  ]
}