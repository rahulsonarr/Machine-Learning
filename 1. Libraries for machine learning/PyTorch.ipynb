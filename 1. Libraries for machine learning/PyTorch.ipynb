{
  "nbformat": 4,
  "nbformat_minor": 0,
  "metadata": {
    "colab": {
      "provenance": [],
      "authorship_tag": "ABX9TyMfNdIugRGWnU0wubeDVN9Q",
      "include_colab_link": true
    },
    "kernelspec": {
      "name": "python3",
      "display_name": "Python 3"
    },
    "language_info": {
      "name": "python"
    }
  },
  "cells": [
    {
      "cell_type": "markdown",
      "metadata": {
        "id": "view-in-github",
        "colab_type": "text"
      },
      "source": [
        "<a href=\"https://colab.research.google.com/github/rahulsonarr/Machine-Learning/blob/main/1.%20Libraries%20for%20machine%20learning/PyTorch.ipynb\" target=\"_parent\"><img src=\"https://colab.research.google.com/assets/colab-badge.svg\" alt=\"Open In Colab\"/></a>"
      ]
    },
    {
      "cell_type": "markdown",
      "source": [
        "**PyTorch**: PyTorch is another popular deep learning library known for its dynamic computational graph and intuitive interface. It offers tools for building and training neural networks and is widely used in both academia and industry."
      ],
      "metadata": {
        "id": "9E_CKWQRLZba"
      }
    },
    {
      "cell_type": "markdown",
      "source": [
        "Here are some basic PyTorch code examples:"
      ],
      "metadata": {
        "id": "FM9eHQH3LfqD"
      }
    },
    {
      "cell_type": "markdown",
      "source": [
        "**Tensor Creation and Operations:**"
      ],
      "metadata": {
        "id": "n4YruimfMBGw"
      }
    },
    {
      "cell_type": "code",
      "source": [
        "import torch\n",
        "\n",
        "# Create a PyTorch tensor\n",
        "a = torch.tensor([1.0, 2.0, 3.0])\n",
        "\n",
        "# Perform some basic tensor operations\n",
        "b = torch.tensor([4.0, 5.0, 6.0])\n",
        "sum_ab = a + b\n",
        "mul_ab = a * b\n",
        "\n",
        "print(\"Sum:\", sum_ab)  # Output: tensor([5., 7., 9.])\n",
        "print(\"Multiplication:\", mul_ab)  # Output: tensor([ 4., 10., 18.])\n"
      ],
      "metadata": {
        "colab": {
          "base_uri": "https://localhost:8080/"
        },
        "id": "9eg3dFROMb8U",
        "outputId": "0dc1ffd7-0799-433b-a13b-c7a44b1a43da"
      },
      "execution_count": 1,
      "outputs": [
        {
          "output_type": "stream",
          "name": "stdout",
          "text": [
            "Sum: tensor([5., 7., 9.])\n",
            "Multiplication: tensor([ 4., 10., 18.])\n"
          ]
        }
      ]
    },
    {
      "cell_type": "markdown",
      "source": [
        "**Simple Linear Regression:**"
      ],
      "metadata": {
        "id": "eKoqRLbCMds1"
      }
    },
    {
      "cell_type": "code",
      "source": [
        "import torch\n",
        "import torch.nn as nn\n",
        "import numpy as np\n",
        "\n",
        "# Generate some toy data for linear regression\n",
        "np.random.seed(42)\n",
        "X = np.random.rand(100, 1)\n",
        "y = 3 * X + 2 + 0.1 * np.random.randn(100, 1)\n",
        "\n",
        "# Convert NumPy arrays to PyTorch tensors\n",
        "X_tensor = torch.tensor(X, dtype=torch.float32)\n",
        "y_tensor = torch.tensor(y, dtype=torch.float32)\n",
        "\n",
        "# Create a linear regression model using PyTorch\n",
        "class LinearRegression(nn.Module):\n",
        "    def __init__(self):\n",
        "        super(LinearRegression, self).__init__()\n",
        "        self.linear = nn.Linear(1, 1)  # 1 input feature, 1 output\n",
        "\n",
        "    def forward(self, x):\n",
        "        return self.linear(x)\n",
        "\n",
        "# Instantiate the model\n",
        "model = LinearRegression()\n",
        "\n",
        "# Define the loss function and optimizer\n",
        "criterion = nn.MSELoss()\n",
        "optimizer = torch.optim.SGD(model.parameters(), lr=0.01)\n",
        "\n",
        "# Training the model\n",
        "num_epochs = 1000\n",
        "for epoch in range(num_epochs):\n",
        "    # Forward pass\n",
        "    y_pred = model(X_tensor)\n",
        "    loss = criterion(y_pred, y_tensor)\n",
        "\n",
        "    # Backward pass and optimization\n",
        "    optimizer.zero_grad()\n",
        "    loss.backward()\n",
        "    optimizer.step()\n",
        "\n",
        "    if epoch % 100 == 0:\n",
        "        print(f\"Epoch {epoch}, Loss: {loss.item():.4f}\")\n",
        "\n",
        "# Get the learned parameters\n",
        "learned_weight = model.linear.weight.item()\n",
        "learned_bias = model.linear.bias.item()\n",
        "print(\"Learned weight:\", learned_weight)  # Output: Learned weight: 2.973270893096924\n",
        "print(\"Learned bias:\", learned_bias)      # Output: Learned bias: 2.001338005065918\n"
      ],
      "metadata": {
        "colab": {
          "base_uri": "https://localhost:8080/"
        },
        "id": "BAq_3n1cMqct",
        "outputId": "a8e9f0b5-753a-4dd0-e529-d92870471219"
      },
      "execution_count": 3,
      "outputs": [
        {
          "output_type": "stream",
          "name": "stdout",
          "text": [
            "Epoch 0, Loss: 20.1622\n",
            "Epoch 100, Loss: 0.3251\n",
            "Epoch 200, Loss: 0.1481\n",
            "Epoch 300, Loss: 0.1129\n",
            "Epoch 400, Loss: 0.0870\n",
            "Epoch 500, Loss: 0.0676\n",
            "Epoch 600, Loss: 0.0529\n",
            "Epoch 700, Loss: 0.0418\n",
            "Epoch 800, Loss: 0.0335\n",
            "Epoch 900, Loss: 0.0272\n",
            "Learned weight: 2.5511183738708496\n",
            "Learned bias: 2.2253763675689697\n"
          ]
        }
      ]
    },
    {
      "cell_type": "markdown",
      "source": [
        "**Simple Feedforward Neural Network:**"
      ],
      "metadata": {
        "id": "mCLuSNUQMt_T"
      }
    },
    {
      "cell_type": "code",
      "source": [
        "import torch\n",
        "import torch.nn as nn\n",
        "import torch.optim as optim\n",
        "\n",
        "# Generate some toy data for a classification task\n",
        "X = torch.randn(100, 10)\n",
        "y = (X.sum(dim=1) > 0).long()\n",
        "\n",
        "# Create a simple feedforward neural network model using PyTorch\n",
        "class SimpleNN(nn.Module):\n",
        "    def __init__(self):\n",
        "        super(SimpleNN, self).__init__()\n",
        "        self.fc1 = nn.Linear(10, 64)\n",
        "        self.fc2 = nn.Linear(64, 2)\n",
        "\n",
        "    def forward(self, x):\n",
        "        x = torch.relu(self.fc1(x))\n",
        "        x = self.fc2(x)\n",
        "        return x\n",
        "\n",
        "# Instantiate the model\n",
        "model = SimpleNN()\n",
        "\n",
        "# Define the loss function and optimizer\n",
        "criterion = nn.CrossEntropyLoss()\n",
        "optimizer = optim.SGD(model.parameters(), lr=0.01)\n",
        "\n",
        "# Training the model\n",
        "num_epochs = 100\n",
        "for epoch in range(num_epochs):\n",
        "    optimizer.zero_grad()\n",
        "    outputs = model(X)\n",
        "    loss = criterion(outputs, y)\n",
        "    loss.backward()\n",
        "    optimizer.step()\n",
        "\n",
        "    if epoch % 10 == 0:\n",
        "        print(f\"Epoch {epoch}, Loss: {loss.item():.4f}\")\n"
      ],
      "metadata": {
        "colab": {
          "base_uri": "https://localhost:8080/"
        },
        "id": "i2wWxhKYM1dd",
        "outputId": "6d5b29f6-2428-4827-87e2-3bc350185b64"
      },
      "execution_count": 4,
      "outputs": [
        {
          "output_type": "stream",
          "name": "stdout",
          "text": [
            "Epoch 0, Loss: 0.7674\n",
            "Epoch 10, Loss: 0.7343\n",
            "Epoch 20, Loss: 0.7070\n",
            "Epoch 30, Loss: 0.6836\n",
            "Epoch 40, Loss: 0.6628\n",
            "Epoch 50, Loss: 0.6439\n",
            "Epoch 60, Loss: 0.6266\n",
            "Epoch 70, Loss: 0.6104\n",
            "Epoch 80, Loss: 0.5951\n",
            "Epoch 90, Loss: 0.5807\n"
          ]
        }
      ]
    },
    {
      "cell_type": "code",
      "source": [],
      "metadata": {
        "id": "vvUP98c1M4Jl"
      },
      "execution_count": null,
      "outputs": []
    }
  ]
}