{
  "nbformat": 4,
  "nbformat_minor": 0,
  "metadata": {
    "colab": {
      "provenance": [],
      "authorship_tag": "ABX9TyPpTTYRjlWM3oRulcc/TwWW",
      "include_colab_link": true
    },
    "kernelspec": {
      "name": "python3",
      "display_name": "Python 3"
    },
    "language_info": {
      "name": "python"
    }
  },
  "cells": [
    {
      "cell_type": "markdown",
      "metadata": {
        "id": "view-in-github",
        "colab_type": "text"
      },
      "source": [
        "<a href=\"https://colab.research.google.com/github/rahulsonarr/Machine-Learning/blob/main/Numpy.ipynb\" target=\"_parent\"><img src=\"https://colab.research.google.com/assets/colab-badge.svg\" alt=\"Open In Colab\"/></a>"
      ]
    },
    {
      "cell_type": "markdown",
      "source": [
        "Numpy Basics"
      ],
      "metadata": {
        "id": "zE-bkhuMJYa_"
      }
    },
    {
      "cell_type": "code",
      "execution_count": 8,
      "metadata": {
        "colab": {
          "base_uri": "https://localhost:8080/"
        },
        "id": "1PRTYY_7JPeH",
        "outputId": "b578047d-ec9a-4c41-f300-b304deb4c598"
      },
      "outputs": [
        {
          "output_type": "stream",
          "name": "stdout",
          "text": [
            "1D Array:\n",
            "[1 2 3 4 5]\n",
            "Shape: (5,)\n",
            "Size: 5\n",
            "\n"
          ]
        }
      ],
      "source": [
        "import numpy as np\n",
        "\n",
        "# Creating a 1-dimensional array\n",
        "arr1d = np.array([1, 2, 3, 4, 5])\n",
        "print(\"1D Array:\")\n",
        "print(arr1d)\n",
        "print(\"Shape:\", arr1d.shape)\n",
        "print(\"Size:\", arr1d.size)\n",
        "print()"
      ]
    },
    {
      "cell_type": "code",
      "source": [
        "# Creating a 2-dimensional array\n",
        "arr2d = np.array([[1, 2, 3], [4, 5, 6]])\n",
        "print(\"2D Array:\")\n",
        "print(arr2d)\n",
        "print(\"Shape:\", arr2d.shape)\n",
        "print(\"Size:\", arr2d.size)\n",
        "print()"
      ],
      "metadata": {
        "colab": {
          "base_uri": "https://localhost:8080/"
        },
        "id": "RWsIE32IKG-m",
        "outputId": "974f09cf-2212-4824-86ec-4c390a510df4"
      },
      "execution_count": 9,
      "outputs": [
        {
          "output_type": "stream",
          "name": "stdout",
          "text": [
            "2D Array:\n",
            "[[1 2 3]\n",
            " [4 5 6]]\n",
            "Shape: (2, 3)\n",
            "Size: 6\n",
            "\n"
          ]
        }
      ]
    },
    {
      "cell_type": "code",
      "source": [
        "# Accessing elements in a NumPy array\n",
        "print(\"First element of arr1d:\", arr1d[0])\n",
        "print(\"Element at row 1, column 2 of arr2d:\", arr2d[1, 2])\n",
        "print()"
      ],
      "metadata": {
        "colab": {
          "base_uri": "https://localhost:8080/"
        },
        "id": "hfIPh_qGKJXk",
        "outputId": "f2ac6bbd-1379-49cf-a68d-f93ce04f5732"
      },
      "execution_count": 10,
      "outputs": [
        {
          "output_type": "stream",
          "name": "stdout",
          "text": [
            "First element of arr1d: 1\n",
            "Element at row 1, column 2 of arr2d: 6\n",
            "\n"
          ]
        }
      ]
    },
    {
      "cell_type": "code",
      "source": [
        "# Slicing arrays\n",
        "print(\"Slice of arr1d:\", arr1d[1:4])\n",
        "print(\"Slice of arr2d:\")\n",
        "print(arr2d[:, 1:])  # Selecting all rows and columns starting from column index 1\n",
        "print()"
      ],
      "metadata": {
        "colab": {
          "base_uri": "https://localhost:8080/"
        },
        "id": "UrfLtyfrKLZQ",
        "outputId": "f8efd888-abef-448a-f2bf-bb242c8fb175"
      },
      "execution_count": 11,
      "outputs": [
        {
          "output_type": "stream",
          "name": "stdout",
          "text": [
            "Slice of arr1d: [2 3 4]\n",
            "Slice of arr2d:\n",
            "[[2 3]\n",
            " [5 6]]\n",
            "\n"
          ]
        }
      ]
    },
    {
      "cell_type": "code",
      "source": [
        "# Reshaping arrays\n",
        "reshaped_arr = arr1d.reshape(5, 1)\n",
        "print(\"Reshaped array:\")\n",
        "print(reshaped_arr)\n",
        "print(\"Shape:\", reshaped_arr.shape)\n",
        "print()"
      ],
      "metadata": {
        "colab": {
          "base_uri": "https://localhost:8080/"
        },
        "id": "G9tU7BEaKN9L",
        "outputId": "5456c5a6-a5a2-4331-e918-489a14ca07e2"
      },
      "execution_count": 12,
      "outputs": [
        {
          "output_type": "stream",
          "name": "stdout",
          "text": [
            "Reshaped array:\n",
            "[[1]\n",
            " [2]\n",
            " [3]\n",
            " [4]\n",
            " [5]]\n",
            "Shape: (5, 1)\n",
            "\n"
          ]
        }
      ]
    },
    {
      "cell_type": "code",
      "source": [
        "# Array arithmetic operations\n",
        "a = np.array([1, 2, 3])\n",
        "b = np.array([4, 5, 6])\n",
        "print(\"Addition:\", a + b)\n",
        "print(\"Subtraction:\", a - b)\n",
        "print(\"Multiplication:\", a * b)\n",
        "print(\"Division:\", a / b)\n",
        "print(\"Dot product:\", np.dot(a, b))\n",
        "print()"
      ],
      "metadata": {
        "colab": {
          "base_uri": "https://localhost:8080/"
        },
        "id": "8tMU9UTyKPeh",
        "outputId": "e29c48cb-ec3f-4a55-a6f7-eb1924a3ce63"
      },
      "execution_count": 13,
      "outputs": [
        {
          "output_type": "stream",
          "name": "stdout",
          "text": [
            "Addition: [5 7 9]\n",
            "Subtraction: [-3 -3 -3]\n",
            "Multiplication: [ 4 10 18]\n",
            "Division: [0.25 0.4  0.5 ]\n",
            "Dot product: 32\n",
            "\n"
          ]
        }
      ]
    },
    {
      "cell_type": "code",
      "source": [
        "# Basic statistical operations\n",
        "data = np.array([2, 4, 6, 8, 10])\n",
        "print(\"Mean:\", np.mean(data))\n",
        "print(\"Median:\", np.median(data))\n",
        "print(\"Standard Deviation:\", np.std(data))\n",
        "print(\"Minimum value:\", np.min(data))\n",
        "print(\"Maximum value:\", np.max(data))"
      ],
      "metadata": {
        "colab": {
          "base_uri": "https://localhost:8080/"
        },
        "id": "ynY1zhfqKQ1w",
        "outputId": "58f0c9d6-fd37-4d04-c8d3-dd214f3c0ba9"
      },
      "execution_count": 14,
      "outputs": [
        {
          "output_type": "stream",
          "name": "stdout",
          "text": [
            "Mean: 6.0\n",
            "Median: 6.0\n",
            "Standard Deviation: 2.8284271247461903\n",
            "Minimum value: 2\n",
            "Maximum value: 10\n"
          ]
        }
      ]
    },
    {
      "cell_type": "code",
      "source": [],
      "metadata": {
        "id": "i6JYdJ_kKRuu"
      },
      "execution_count": 14,
      "outputs": []
    }
  ]
}